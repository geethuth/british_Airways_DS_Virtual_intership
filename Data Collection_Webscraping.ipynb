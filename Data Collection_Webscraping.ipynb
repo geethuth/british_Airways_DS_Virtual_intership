{
 "cells": [
  {
   "cell_type": "markdown",
   "id": "968b2df2",
   "metadata": {},
   "source": [
    "### Data Collection\n",
    "In this phase, the data is collected from the airline qualite website <a href=\"https://www.airlinequality.com/airline-reviews/british-airways/\">SkyTrax</a>.  \n",
    "The customer rating, seat rating, and longue rating are collected.  \n",
    "The libraries BeautifulSoup and requests are used for web scraping"
   ]
  },
  {
   "cell_type": "code",
   "execution_count": 1,
   "id": "71090637",
   "metadata": {},
   "outputs": [],
   "source": [
    "#import required libraries\n",
    "import requests\n",
    "import numpy as np\n",
    "import pandas as pd\n",
    "from bs4 import BeautifulSoup"
   ]
  },
  {
   "cell_type": "code",
   "execution_count": 2,
   "id": "d489ce9c",
   "metadata": {},
   "outputs": [],
   "source": [
    "# create an empty list to store all reviews\n",
    "reviews = []\n",
    "# create an empty list to store all rating star\n",
    "stars = []\n",
    "# create an empty list to store date\n",
    "date = []\n",
    "#create an empty list to the country names where the reviewer from\n",
    "country = []"
   ]
  },
  {
   "cell_type": "code",
   "execution_count": 3,
   "id": "11c6ede2",
   "metadata": {},
   "outputs": [],
   "source": [
    "import re\n",
    "# for i in range(1, 26):\n",
    "for i in range(1,26):\n",
    "    # Create URL to collect links from paginated data\n",
    "    page_link = f\"https://www.airlinequality.com/airline-reviews/british-airways/page/{i}/?sortby=post_date%3ADesc&pagesize=100\"\n",
    "    # Collect HTML data from this page\n",
    "    page = requests.get(page_link)\n",
    "    # Parse content\n",
    "    soup = BeautifulSoup(page.content,\"html5\")\n",
    "    # reviews\n",
    "    for item in soup.find_all(\"div\",class_=\"text_content\"):\n",
    "        reviews.append(item.text)\n",
    "    \n",
    "    # stars\n",
    "    for item in soup.find_all(\"div\", class_ = \"rating-10\"):\n",
    "        try:\n",
    "            stars.append(item.span.text)\n",
    "        except:\n",
    "            print(f\"Error on page {i}\")\n",
    "            stars.append(\"None\")  \n",
    "    \n",
    "    # date\n",
    "    for item in soup(\"time\"):\n",
    "        date.append(item.text)\n",
    "    \n",
    "\n",
    "    # country\n",
    "    for item in soup(\"h3\"):\n",
    "        name = item.span.next_sibling.text\n",
    "        country.append(re.sub(r'[()]', '', name))"
   ]
  },
  {
   "cell_type": "code",
   "execution_count": 4,
   "id": "aede8cac",
   "metadata": {},
   "outputs": [
    {
     "data": {
      "text/plain": [
       "2500"
      ]
     },
     "execution_count": 4,
     "metadata": {},
     "output_type": "execute_result"
    }
   ],
   "source": [
    "len(reviews)"
   ]
  },
  {
   "cell_type": "code",
   "execution_count": 5,
   "id": "55cc5e20",
   "metadata": {},
   "outputs": [],
   "source": [
    "stars = stars[:2500]"
   ]
  },
  {
   "cell_type": "code",
   "execution_count": 6,
   "id": "f35436bd",
   "metadata": {},
   "outputs": [
    {
     "data": {
      "text/html": [
       "<div>\n",
       "<style scoped>\n",
       "    .dataframe tbody tr th:only-of-type {\n",
       "        vertical-align: middle;\n",
       "    }\n",
       "\n",
       "    .dataframe tbody tr th {\n",
       "        vertical-align: top;\n",
       "    }\n",
       "\n",
       "    .dataframe thead th {\n",
       "        text-align: right;\n",
       "    }\n",
       "</style>\n",
       "<table border=\"1\" class=\"dataframe\">\n",
       "  <thead>\n",
       "    <tr style=\"text-align: right;\">\n",
       "      <th></th>\n",
       "      <th>Reviews</th>\n",
       "      <th>Stars</th>\n",
       "      <th>Date</th>\n",
       "      <th>Country</th>\n",
       "    </tr>\n",
       "  </thead>\n",
       "  <tbody>\n",
       "    <tr>\n",
       "      <th>0</th>\n",
       "      <td>Not Verified | Only the second time flying BA ...</td>\n",
       "      <td>\\n\\t\\t\\t\\t\\t\\t\\t\\t\\t\\t\\t\\t\\t5</td>\n",
       "      <td>14th May 2023</td>\n",
       "      <td>United States</td>\n",
       "    </tr>\n",
       "    <tr>\n",
       "      <th>1</th>\n",
       "      <td>✅ Trip Verified | I wasn't going to bother rev...</td>\n",
       "      <td>3</td>\n",
       "      <td>14th May 2023</td>\n",
       "      <td>United Kingdom</td>\n",
       "    </tr>\n",
       "    <tr>\n",
       "      <th>2</th>\n",
       "      <td>✅ Trip Verified |  I booked business class tic...</td>\n",
       "      <td>3</td>\n",
       "      <td>13th May 2023</td>\n",
       "      <td>United States</td>\n",
       "    </tr>\n",
       "    <tr>\n",
       "      <th>3</th>\n",
       "      <td>✅ Trip Verified |  I will never travel with Br...</td>\n",
       "      <td>1</td>\n",
       "      <td>8th May 2023</td>\n",
       "      <td>Australia</td>\n",
       "    </tr>\n",
       "    <tr>\n",
       "      <th>4</th>\n",
       "      <td>✅ Trip Verified |  I am already in Portugal so...</td>\n",
       "      <td>1</td>\n",
       "      <td>6th May 2023</td>\n",
       "      <td>United Kingdom</td>\n",
       "    </tr>\n",
       "  </tbody>\n",
       "</table>\n",
       "</div>"
      ],
      "text/plain": [
       "                                             Reviews  \\\n",
       "0  Not Verified | Only the second time flying BA ...   \n",
       "1  ✅ Trip Verified | I wasn't going to bother rev...   \n",
       "2  ✅ Trip Verified |  I booked business class tic...   \n",
       "3  ✅ Trip Verified |  I will never travel with Br...   \n",
       "4  ✅ Trip Verified |  I am already in Portugal so...   \n",
       "\n",
       "                           Stars           Date           Country  \n",
       "0  \\n\\t\\t\\t\\t\\t\\t\\t\\t\\t\\t\\t\\t\\t5  14th May 2023    United States   \n",
       "1                              3  14th May 2023   United Kingdom   \n",
       "2                              3  13th May 2023    United States   \n",
       "3                              1   8th May 2023        Australia   \n",
       "4                              1   6th May 2023   United Kingdom   "
      ]
     },
     "execution_count": 6,
     "metadata": {},
     "output_type": "execute_result"
    }
   ],
   "source": [
    "# create a dataframe from these arrays of data\n",
    "df = pd.DataFrame({\"Reviews\":reviews, \"Stars\":stars, \"Date\":date, \"Country\":country})\n",
    "df.head()"
   ]
  },
  {
   "cell_type": "code",
   "execution_count": 7,
   "id": "3573d785",
   "metadata": {},
   "outputs": [
    {
     "data": {
      "text/plain": [
       "(2500, 4)"
      ]
     },
     "execution_count": 7,
     "metadata": {},
     "output_type": "execute_result"
    }
   ],
   "source": [
    "df.shape"
   ]
  },
  {
   "cell_type": "code",
   "execution_count": 8,
   "id": "c314e925",
   "metadata": {},
   "outputs": [],
   "source": [
    "import os\n",
    "cwd = os.getcwd()\n",
    "df.to_csv(cwd+\"/reviews.csv\",index=False)"
   ]
  },
  {
   "cell_type": "code",
   "execution_count": null,
   "id": "87b9d1cb",
   "metadata": {},
   "outputs": [],
   "source": []
  }
 ],
 "metadata": {
  "kernelspec": {
   "display_name": "Python 3 (ipykernel)",
   "language": "python",
   "name": "python3"
  },
  "language_info": {
   "codemirror_mode": {
    "name": "ipython",
    "version": 3
   },
   "file_extension": ".py",
   "mimetype": "text/x-python",
   "name": "python",
   "nbconvert_exporter": "python",
   "pygments_lexer": "ipython3",
   "version": "3.9.12"
  }
 },
 "nbformat": 4,
 "nbformat_minor": 5
}
