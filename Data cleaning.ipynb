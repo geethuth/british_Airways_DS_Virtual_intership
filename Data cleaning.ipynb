{
 "cells": [
  {
   "cell_type": "markdown",
   "id": "fd122f26",
   "metadata": {},
   "source": [
    "##### We need to clean the data which we downloaded"
   ]
  },
  {
   "cell_type": "code",
   "execution_count": 1,
   "id": "9cd6b39f",
   "metadata": {},
   "outputs": [],
   "source": [
    "#import relevant libraries\n",
    "import pandas as pd\n",
    "import numpy as np\n",
    "import seaborn as sb\n",
    "import os\n",
    "import re\n",
    "import matplotlib.pyplot as plt "
   ]
  },
  {
   "cell_type": "code",
   "execution_count": 2,
   "id": "3a7f4cbd",
   "metadata": {},
   "outputs": [
    {
     "data": {
      "text/html": [
       "<div>\n",
       "<style scoped>\n",
       "    .dataframe tbody tr th:only-of-type {\n",
       "        vertical-align: middle;\n",
       "    }\n",
       "\n",
       "    .dataframe tbody tr th {\n",
       "        vertical-align: top;\n",
       "    }\n",
       "\n",
       "    .dataframe thead th {\n",
       "        text-align: right;\n",
       "    }\n",
       "</style>\n",
       "<table border=\"1\" class=\"dataframe\">\n",
       "  <thead>\n",
       "    <tr style=\"text-align: right;\">\n",
       "      <th></th>\n",
       "      <th>Reviews</th>\n",
       "      <th>Stars</th>\n",
       "      <th>Date</th>\n",
       "      <th>Country</th>\n",
       "    </tr>\n",
       "  </thead>\n",
       "  <tbody>\n",
       "    <tr>\n",
       "      <th>0</th>\n",
       "      <td>Not Verified | Only the second time flying BA ...</td>\n",
       "      <td>5</td>\n",
       "      <td>14th May 2023</td>\n",
       "      <td>United States</td>\n",
       "    </tr>\n",
       "    <tr>\n",
       "      <th>1</th>\n",
       "      <td>✅ Trip Verified | I wasn't going to bother rev...</td>\n",
       "      <td>3</td>\n",
       "      <td>14th May 2023</td>\n",
       "      <td>United Kingdom</td>\n",
       "    </tr>\n",
       "    <tr>\n",
       "      <th>2</th>\n",
       "      <td>✅ Trip Verified |  I booked business class tic...</td>\n",
       "      <td>3</td>\n",
       "      <td>13th May 2023</td>\n",
       "      <td>United States</td>\n",
       "    </tr>\n",
       "    <tr>\n",
       "      <th>3</th>\n",
       "      <td>✅ Trip Verified |  I will never travel with Br...</td>\n",
       "      <td>1</td>\n",
       "      <td>8th May 2023</td>\n",
       "      <td>Australia</td>\n",
       "    </tr>\n",
       "    <tr>\n",
       "      <th>4</th>\n",
       "      <td>✅ Trip Verified |  I am already in Portugal so...</td>\n",
       "      <td>1</td>\n",
       "      <td>6th May 2023</td>\n",
       "      <td>United Kingdom</td>\n",
       "    </tr>\n",
       "  </tbody>\n",
       "</table>\n",
       "</div>"
      ],
      "text/plain": [
       "                                             Reviews  Stars           Date  \\\n",
       "0  Not Verified | Only the second time flying BA ...      5  14th May 2023   \n",
       "1  ✅ Trip Verified | I wasn't going to bother rev...      3  14th May 2023   \n",
       "2  ✅ Trip Verified |  I booked business class tic...      3  13th May 2023   \n",
       "3  ✅ Trip Verified |  I will never travel with Br...      1   8th May 2023   \n",
       "4  ✅ Trip Verified |  I am already in Portugal so...      1   6th May 2023   \n",
       "\n",
       "            Country  \n",
       "0    United States   \n",
       "1   United Kingdom   \n",
       "2    United States   \n",
       "3        Australia   \n",
       "4   United Kingdom   "
      ]
     },
     "execution_count": 2,
     "metadata": {},
     "output_type": "execute_result"
    }
   ],
   "source": [
    "#load data from csv file\n",
    "df = pd.read_csv(\"reviews.csv\")\n",
    "df.head()"
   ]
  },
  {
   "cell_type": "markdown",
   "id": "2e47274d",
   "metadata": {},
   "source": [
    "Create another column whch says the trip is verified or not from the review coulmn"
   ]
  },
  {
   "cell_type": "code",
   "execution_count": 3,
   "id": "d3e0e26d",
   "metadata": {},
   "outputs": [
    {
     "data": {
      "text/plain": [
       "0       False\n",
       "1        True\n",
       "2        True\n",
       "3        True\n",
       "4        True\n",
       "        ...  \n",
       "2495    False\n",
       "2496    False\n",
       "2497    False\n",
       "2498    False\n",
       "2499    False\n",
       "Name: Verified, Length: 2500, dtype: bool"
      ]
     },
     "execution_count": 3,
     "metadata": {},
     "output_type": "execute_result"
    }
   ],
   "source": [
    "df['Verified'] = df.Reviews.str.contains(\"Trip Verified\")\n",
    "df['Verified'] "
   ]
  },
  {
   "cell_type": "markdown",
   "id": "7889dcc5",
   "metadata": {},
   "source": [
    "##### cleaning reviews"
   ]
  },
  {
   "cell_type": "code",
   "execution_count": 5,
   "id": "df14b980",
   "metadata": {},
   "outputs": [],
   "source": [
    "#for lemmatization of words we will use nltk library\n",
    "from nltk.stem import WordNetLemmatizer\n",
    "from nltk.corpus import stopwords\n",
    "lemma = WordNetLemmatizer()\n",
    "\n",
    "\n",
    "reviews_data = df.Reviews.str.strip(\"✅ Trip Verified |\")\n",
    "\n",
    "#create an empty list to collect cleaned data corpus\n",
    "corpus =[]\n",
    "\n",
    "#loop through each review, remove punctuations, small case it, join it and add it to corpus\n",
    "for rev in reviews_data:\n",
    "    rev = re.sub('[^a-zA-Z]',' ', rev)\n",
    "    rev = rev.lower()\n",
    "    rev = rev.split()\n",
    "    rev = [lemma.lemmatize(word) for word in rev if word not in set(stopwords.words(\"english\"))]\n",
    "    rev = \" \".join(rev)\n",
    "    corpus.append(rev)"
   ]
  },
  {
   "cell_type": "code",
   "execution_count": 6,
   "id": "35c7ff95",
   "metadata": {},
   "outputs": [],
   "source": [
    "df['corpus'] = corpus"
   ]
  },
  {
   "cell_type": "code",
   "execution_count": 7,
   "id": "92595256",
   "metadata": {},
   "outputs": [
    {
     "data": {
      "text/html": [
       "<div>\n",
       "<style scoped>\n",
       "    .dataframe tbody tr th:only-of-type {\n",
       "        vertical-align: middle;\n",
       "    }\n",
       "\n",
       "    .dataframe tbody tr th {\n",
       "        vertical-align: top;\n",
       "    }\n",
       "\n",
       "    .dataframe thead th {\n",
       "        text-align: right;\n",
       "    }\n",
       "</style>\n",
       "<table border=\"1\" class=\"dataframe\">\n",
       "  <thead>\n",
       "    <tr style=\"text-align: right;\">\n",
       "      <th></th>\n",
       "      <th>Reviews</th>\n",
       "      <th>Stars</th>\n",
       "      <th>Date</th>\n",
       "      <th>Country</th>\n",
       "      <th>Verified</th>\n",
       "      <th>corpus</th>\n",
       "    </tr>\n",
       "  </thead>\n",
       "  <tbody>\n",
       "    <tr>\n",
       "      <th>0</th>\n",
       "      <td>Not Verified | Only the second time flying BA ...</td>\n",
       "      <td>5</td>\n",
       "      <td>14th May 2023</td>\n",
       "      <td>United States</td>\n",
       "      <td>False</td>\n",
       "      <td>verified second time flying ba first time posi...</td>\n",
       "    </tr>\n",
       "    <tr>\n",
       "      <th>1</th>\n",
       "      <td>✅ Trip Verified | I wasn't going to bother rev...</td>\n",
       "      <td>3</td>\n",
       "      <td>14th May 2023</td>\n",
       "      <td>United Kingdom</td>\n",
       "      <td>True</td>\n",
       "      <td>going bother reviewing flight seem perpetual d...</td>\n",
       "    </tr>\n",
       "    <tr>\n",
       "      <th>2</th>\n",
       "      <td>✅ Trip Verified |  I booked business class tic...</td>\n",
       "      <td>3</td>\n",
       "      <td>13th May 2023</td>\n",
       "      <td>United States</td>\n",
       "      <td>True</td>\n",
       "      <td>booked business class ticket fianc reschedule ...</td>\n",
       "    </tr>\n",
       "    <tr>\n",
       "      <th>3</th>\n",
       "      <td>✅ Trip Verified |  I will never travel with Br...</td>\n",
       "      <td>1</td>\n",
       "      <td>8th May 2023</td>\n",
       "      <td>Australia</td>\n",
       "      <td>True</td>\n",
       "      <td>never travel british airway spent business cla...</td>\n",
       "    </tr>\n",
       "    <tr>\n",
       "      <th>4</th>\n",
       "      <td>✅ Trip Verified |  I am already in Portugal so...</td>\n",
       "      <td>1</td>\n",
       "      <td>6th May 2023</td>\n",
       "      <td>United Kingdom</td>\n",
       "      <td>True</td>\n",
       "      <td>already portugal contacted today cancelled ret...</td>\n",
       "    </tr>\n",
       "  </tbody>\n",
       "</table>\n",
       "</div>"
      ],
      "text/plain": [
       "                                             Reviews  Stars           Date  \\\n",
       "0  Not Verified | Only the second time flying BA ...      5  14th May 2023   \n",
       "1  ✅ Trip Verified | I wasn't going to bother rev...      3  14th May 2023   \n",
       "2  ✅ Trip Verified |  I booked business class tic...      3  13th May 2023   \n",
       "3  ✅ Trip Verified |  I will never travel with Br...      1   8th May 2023   \n",
       "4  ✅ Trip Verified |  I am already in Portugal so...      1   6th May 2023   \n",
       "\n",
       "            Country  Verified  \\\n",
       "0    United States      False   \n",
       "1   United Kingdom       True   \n",
       "2    United States       True   \n",
       "3        Australia       True   \n",
       "4   United Kingdom       True   \n",
       "\n",
       "                                              corpus  \n",
       "0  verified second time flying ba first time posi...  \n",
       "1  going bother reviewing flight seem perpetual d...  \n",
       "2  booked business class ticket fianc reschedule ...  \n",
       "3  never travel british airway spent business cla...  \n",
       "4  already portugal contacted today cancelled ret...  "
      ]
     },
     "execution_count": 7,
     "metadata": {},
     "output_type": "execute_result"
    }
   ],
   "source": [
    "df.head()"
   ]
  },
  {
   "cell_type": "markdown",
   "id": "50a53d46",
   "metadata": {},
   "source": [
    "#### Cleaning/Format date"
   ]
  },
  {
   "cell_type": "code",
   "execution_count": 8,
   "id": "cd77e1ac",
   "metadata": {},
   "outputs": [
    {
     "data": {
      "text/plain": [
       "Reviews     object\n",
       "Stars        int64\n",
       "Date        object\n",
       "Country     object\n",
       "Verified      bool\n",
       "corpus      object\n",
       "dtype: object"
      ]
     },
     "execution_count": 8,
     "metadata": {},
     "output_type": "execute_result"
    }
   ],
   "source": [
    "df.dtypes"
   ]
  },
  {
   "cell_type": "code",
   "execution_count": 9,
   "id": "b437c92f",
   "metadata": {},
   "outputs": [],
   "source": [
    "#convert date to datetime format\n",
    "df.Date = pd.to_datetime(df.Date)"
   ]
  },
  {
   "cell_type": "code",
   "execution_count": 10,
   "id": "13a86836",
   "metadata": {},
   "outputs": [
    {
     "data": {
      "text/plain": [
       "0   2023-05-14\n",
       "1   2023-05-14\n",
       "2   2023-05-13\n",
       "3   2023-05-08\n",
       "4   2023-05-06\n",
       "Name: Date, dtype: datetime64[ns]"
      ]
     },
     "execution_count": 10,
     "metadata": {},
     "output_type": "execute_result"
    }
   ],
   "source": [
    "df.Date.head()"
   ]
  },
  {
   "cell_type": "markdown",
   "id": "13db9b99",
   "metadata": {},
   "source": [
    "#### Cleaning the rating with star"
   ]
  },
  {
   "cell_type": "code",
   "execution_count": 11,
   "id": "1a07ae43",
   "metadata": {},
   "outputs": [
    {
     "data": {
      "text/plain": [
       "array([ 5,  3,  1,  2, 10,  4,  9,  7,  8,  6], dtype=int64)"
      ]
     },
     "execution_count": 11,
     "metadata": {},
     "output_type": "execute_result"
    }
   ],
   "source": [
    "df.Stars.unique()"
   ]
  },
  {
   "cell_type": "code",
   "execution_count": 12,
   "id": "46423add",
   "metadata": {},
   "outputs": [
    {
     "data": {
      "text/plain": [
       "1     640\n",
       "2     310\n",
       "3     295\n",
       "8     230\n",
       "10    190\n",
       "7     190\n",
       "5     185\n",
       "9     178\n",
       "4     166\n",
       "6     116\n",
       "Name: Stars, dtype: int64"
      ]
     },
     "execution_count": 12,
     "metadata": {},
     "output_type": "execute_result"
    }
   ],
   "source": [
    "df.Stars.value_counts()"
   ]
  },
  {
   "cell_type": "markdown",
   "id": "ea3dc65f",
   "metadata": {},
   "source": [
    "#### Check for null Values\n"
   ]
  },
  {
   "cell_type": "code",
   "execution_count": 15,
   "id": "6ab35733",
   "metadata": {},
   "outputs": [
    {
     "data": {
      "text/plain": [
       "Reviews  Stars  Date   Country  Verified  corpus\n",
       "False    False  False  False    False     False     2500\n",
       "dtype: int64"
      ]
     },
     "execution_count": 15,
     "metadata": {},
     "output_type": "execute_result"
    }
   ],
   "source": [
    "df.isnull().value_counts()"
   ]
  },
  {
   "cell_type": "code",
   "execution_count": 16,
   "id": "56f6b30b",
   "metadata": {},
   "outputs": [
    {
     "data": {
      "text/plain": [
       "False    2500\n",
       "Name: Country, dtype: int64"
      ]
     },
     "execution_count": 16,
     "metadata": {},
     "output_type": "execute_result"
    }
   ],
   "source": [
    "df.Country.isnull().value_counts()\n"
   ]
  },
  {
   "cell_type": "code",
   "execution_count": 17,
   "id": "54fcabbb",
   "metadata": {},
   "outputs": [
    {
     "data": {
      "text/html": [
       "<div>\n",
       "<style scoped>\n",
       "    .dataframe tbody tr th:only-of-type {\n",
       "        vertical-align: middle;\n",
       "    }\n",
       "\n",
       "    .dataframe tbody tr th {\n",
       "        vertical-align: top;\n",
       "    }\n",
       "\n",
       "    .dataframe thead th {\n",
       "        text-align: right;\n",
       "    }\n",
       "</style>\n",
       "<table border=\"1\" class=\"dataframe\">\n",
       "  <thead>\n",
       "    <tr style=\"text-align: right;\">\n",
       "      <th></th>\n",
       "      <th>Reviews</th>\n",
       "      <th>Stars</th>\n",
       "      <th>Date</th>\n",
       "      <th>Country</th>\n",
       "      <th>Verified</th>\n",
       "      <th>corpus</th>\n",
       "    </tr>\n",
       "  </thead>\n",
       "  <tbody>\n",
       "    <tr>\n",
       "      <th>0</th>\n",
       "      <td>Not Verified | Only the second time flying BA ...</td>\n",
       "      <td>5</td>\n",
       "      <td>2023-05-14</td>\n",
       "      <td>United States</td>\n",
       "      <td>False</td>\n",
       "      <td>verified second time flying ba first time posi...</td>\n",
       "    </tr>\n",
       "    <tr>\n",
       "      <th>1</th>\n",
       "      <td>✅ Trip Verified | I wasn't going to bother rev...</td>\n",
       "      <td>3</td>\n",
       "      <td>2023-05-14</td>\n",
       "      <td>United Kingdom</td>\n",
       "      <td>True</td>\n",
       "      <td>going bother reviewing flight seem perpetual d...</td>\n",
       "    </tr>\n",
       "    <tr>\n",
       "      <th>2</th>\n",
       "      <td>✅ Trip Verified |  I booked business class tic...</td>\n",
       "      <td>3</td>\n",
       "      <td>2023-05-13</td>\n",
       "      <td>United States</td>\n",
       "      <td>True</td>\n",
       "      <td>booked business class ticket fianc reschedule ...</td>\n",
       "    </tr>\n",
       "    <tr>\n",
       "      <th>3</th>\n",
       "      <td>✅ Trip Verified |  I will never travel with Br...</td>\n",
       "      <td>1</td>\n",
       "      <td>2023-05-08</td>\n",
       "      <td>Australia</td>\n",
       "      <td>True</td>\n",
       "      <td>never travel british airway spent business cla...</td>\n",
       "    </tr>\n",
       "    <tr>\n",
       "      <th>4</th>\n",
       "      <td>✅ Trip Verified |  I am already in Portugal so...</td>\n",
       "      <td>1</td>\n",
       "      <td>2023-05-06</td>\n",
       "      <td>United Kingdom</td>\n",
       "      <td>True</td>\n",
       "      <td>already portugal contacted today cancelled ret...</td>\n",
       "    </tr>\n",
       "  </tbody>\n",
       "</table>\n",
       "</div>"
      ],
      "text/plain": [
       "                                             Reviews  Stars       Date  \\\n",
       "0  Not Verified | Only the second time flying BA ...      5 2023-05-14   \n",
       "1  ✅ Trip Verified | I wasn't going to bother rev...      3 2023-05-14   \n",
       "2  ✅ Trip Verified |  I booked business class tic...      3 2023-05-13   \n",
       "3  ✅ Trip Verified |  I will never travel with Br...      1 2023-05-08   \n",
       "4  ✅ Trip Verified |  I am already in Portugal so...      1 2023-05-06   \n",
       "\n",
       "            Country  Verified  \\\n",
       "0    United States      False   \n",
       "1   United Kingdom       True   \n",
       "2    United States       True   \n",
       "3        Australia       True   \n",
       "4   United Kingdom       True   \n",
       "\n",
       "                                              corpus  \n",
       "0  verified second time flying ba first time posi...  \n",
       "1  going bother reviewing flight seem perpetual d...  \n",
       "2  booked business class ticket fianc reschedule ...  \n",
       "3  never travel british airway spent business cla...  \n",
       "4  already portugal contacted today cancelled ret...  "
      ]
     },
     "execution_count": 17,
     "metadata": {},
     "output_type": "execute_result"
    }
   ],
   "source": [
    "df.head()"
   ]
  },
  {
   "cell_type": "code",
   "execution_count": 18,
   "id": "b92cfd6e",
   "metadata": {},
   "outputs": [],
   "source": [
    "# cleaned data is ready for visualisation\n",
    "df.to_csv(\"reviews_cleaned.csv\",index=False)"
   ]
  },
  {
   "cell_type": "code",
   "execution_count": null,
   "id": "d41aff74",
   "metadata": {},
   "outputs": [],
   "source": []
  }
 ],
 "metadata": {
  "kernelspec": {
   "display_name": "Python 3 (ipykernel)",
   "language": "python",
   "name": "python3"
  },
  "language_info": {
   "codemirror_mode": {
    "name": "ipython",
    "version": 3
   },
   "file_extension": ".py",
   "mimetype": "text/x-python",
   "name": "python",
   "nbconvert_exporter": "python",
   "pygments_lexer": "ipython3",
   "version": "3.9.12"
  }
 },
 "nbformat": 4,
 "nbformat_minor": 5
}
